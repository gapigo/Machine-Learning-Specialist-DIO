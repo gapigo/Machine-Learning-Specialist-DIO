{
 "cells": [
  {
   "cell_type": "code",
   "execution_count": null,
   "id": "4de3845b-1aa1-4039-8069-65336d495e30",
   "metadata": {},
   "outputs": [],
   "source": [
    "import numpy as np\n",
    "import cv2\n",
    "from matplotlib import pyplot as plt\n",
    "\n",
    "figsize = (10, 10)\n"
   ]
  },
  {
   "cell_type": "code",
   "execution_count": null,
   "id": "abcc1ad3-bab6-4f49-91e7-f244a31a644f",
   "metadata": {},
   "outputs": [],
   "source": [
    "def plot_im(img, title):\n",
    "    plt.figure(figsize=figsize)\n",
    "    plt.imshow(img)\n",
    "    plt.title(title)\n",
    "    plt.xticks([])\n",
    "    plt.yticks([])\n",
    "    plt.show()\n",
    "\n",
    "\n",
    "img = cv2.imread(\"Tour_Eiffel.jpg\")\n",
    "img = cv2.cvtColor(img, cv2.COLOR_BGR2RGB)\n",
    "plot_im(img, \"original image\")\n",
    "\n"
   ]
  },
  {
   "cell_type": "code",
   "execution_count": null,
   "id": "646a9162-68ed-491b-bea7-6189030f0d64",
   "metadata": {},
   "outputs": [],
   "source": [
    "def mean_kernel_smoothing(img, sz):\n",
    "    kernel = np.ones((sz, sz)) / (sz ** 2)\n",
    "    dst = cv2.filter2D(img, -1, kernel)\n",
    "\n",
    "    plot_im(dst, str(sz) + \"X\" + str(sz) + \" mean kernel\")\n",
    "\n",
    "\n",
    "mean_kernel_smoothing(img, 5)\n",
    "mean_kernel_smoothing(img, 10)\n",
    "mean_kernel_smoothing(img, 20)\n",
    "\n",
    "def gauss_blur(img, k_sz, sigma=-1, is_plot_kernel=False):\n",
    "    blur = cv2.GaussianBlur(img, (k_sz, k_sz), sigma)\n",
    "    plot_im(blur, \"gaussian kernel with kernel_size=\" + str(k_sz) + r\", $\\sigma$=\" + str(sigma))\n",
    "    if is_plot_kernel:\n",
    "        # sigma=-1 will set the sigma size automatically\n",
    "        gauss_ker = cv2.getGaussianKernel(k_sz, sigma)\n",
    "        plt.figure(figsize=(figsize[0] / 2, figsize[1] / 2))\n",
    "        plt.plot(gauss_ker)\n",
    "        plt.title(\"corresponding gaussian kernel\")\n",
    "        plt.show()\n",
    "\n",
    "\n",
    "gauss_blur(img, 5, is_plot_kernel=True)\n",
    "gauss_blur(img, 21, is_plot_kernel=True)\n",
    "gauss_blur(img, 21, 1, is_plot_kernel=True)\n",
    "\n"
   ]
  },
  {
   "cell_type": "code",
   "execution_count": null,
   "id": "7553c8ca-6287-4666-a1ba-0fc1725a9691",
   "metadata": {},
   "outputs": [],
   "source": [
    "\n",
    "\n",
    "def median_filter(img, k_sz):\n",
    "    res = cv2.medianBlur(img, k_sz)\n",
    "    plot_im(res, \"median filter with kernel_size=\" + str(k_sz))\n",
    "\n",
    "\n",
    "median_filter(img, 5)\n",
    "\n"
   ]
  },
  {
   "cell_type": "code",
   "execution_count": null,
   "id": "b3631393-b864-4c77-a204-09b641733695",
   "metadata": {},
   "outputs": [],
   "source": [
    "\n",
    "\n",
    "def gauss_noise(image, gauss_var=1000):\n",
    "    mean = 0\n",
    "    sigma = gauss_var ** 0.5\n",
    "    gauss = np.random.normal(mean, sigma, image.shape)\n",
    "\n",
    "    res = image + gauss\n",
    "    noisy = np.clip(res, 0, 255).astype(np.uint8)\n",
    "    return noisy\n",
    "\n",
    "\n",
    "def s_and_p_noise(image, s_p_ratio=0.04):\n",
    "    # this implementation is not entirely correct because it assumes that\n",
    "    # only 0 OR 255 values are S&P noise.\n",
    "    out = np.copy(image)\n",
    "\n",
    "    # Salt mode\n",
    "    mask = np.random.rand(image.shape[0], image.shape[1]) <= s_p_ratio / 2\n",
    "    out[mask] = 255\n",
    "\n",
    "    # Pepper mode\n",
    "    mask = np.random.rand(image.shape[0], image.shape[1]) <= s_p_ratio / 2\n",
    "    out[mask] = 0\n",
    "    return out\n",
    "\n",
    "\n"
   ]
  },
  {
   "cell_type": "code",
   "execution_count": null,
   "id": "7f3dde9d-db3c-4d7e-9b6a-62b6999dc189",
   "metadata": {},
   "outputs": [],
   "source": [
    "np.random.seed(1234)\n",
    "\n",
    "gauss_noise_im = gauss_noise(img, gauss_var=70)\n",
    "plt.figure(figsize=figsize)\n",
    "plt.imshow(gauss_noise_im)\n",
    "plt.title(\"original image + gaussian noise\")\n",
    "plt.show()\n",
    "\n"
   ]
  },
  {
   "cell_type": "code",
   "execution_count": null,
   "id": "b3100239-6cac-4b97-9a2e-6b1e91a60b50",
   "metadata": {},
   "outputs": [],
   "source": [
    "gauss_blur(gauss_noise_im, 3)\n",
    "gauss_blur(gauss_noise_im, 5)\n",
    "gauss_blur(gauss_noise_im, 11)\n",
    "median_filter(gauss_noise_im, 5)\n",
    "\n"
   ]
  },
  {
   "cell_type": "code",
   "execution_count": null,
   "id": "cb832b26-4129-4669-9d8c-8fa72d12531e",
   "metadata": {},
   "outputs": [],
   "source": [
    "s_p_noise_im = s_and_p_noise(img, s_p_ratio=0.04)\n",
    "plt.figure(figsize=figsize)\n",
    "plt.imshow(s_p_noise_im)\n",
    "plt.title(\"original image + s&p noise\")\n",
    "plt.show()\n",
    "\n"
   ]
  },
  {
   "cell_type": "code",
   "execution_count": null,
   "id": "d399a531-4d7d-4654-9ff8-78422c261d45",
   "metadata": {},
   "outputs": [],
   "source": [
    "gauss_blur(s_p_noise_im, 5)\n",
    "median_filter(s_p_noise_im, 3)\n",
    "median_filter(s_p_noise_im, 5)\n",
    "\n"
   ]
  }
 ],
 "metadata": {
  "kernelspec": {
   "display_name": "Python 3 (ipykernel)",
   "language": "python",
   "name": "python3"
  },
  "language_info": {
   "name": ""
  }
 },
 "nbformat": 4,
 "nbformat_minor": 5
}
