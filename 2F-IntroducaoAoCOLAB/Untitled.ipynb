{
 "cells": [
  {
   "cell_type": "code",
   "execution_count": 1,
   "id": "76c6b2cc-38c4-4441-9393-3641e8848480",
   "metadata": {},
   "outputs": [],
   "source": [
    "import matplotlib.image as mpimg\n",
    "import matplotlib.pyplot as plt\n",
    "import os\n",
    "import requests\n",
    "import zipfile\n",
    "import random\n",
    "import tensorflow as tf\n",
    "from tensorflow.keras.optimizers import RMSprop\n",
    "from tensorflow.keras.preprocessing.image import ImageDataGenerator\n",
    "from shutil import copyfile\n",
    "from threading import Thread\n",
    "from time import sleep"
   ]
  },
  {
   "cell_type": "code",
   "execution_count": 2,
   "id": "626f1abe-feb7-4b15-8f40-e0383f121175",
   "metadata": {},
   "outputs": [
    {
     "name": "stdout",
     "output_type": "stream",
     "text": [
      "12501\n",
      "12501\n"
     ]
    }
   ],
   "source": [
    "print(len(os.listdir('./tmp/PetImages/Cat/')))\n",
    "print(len(os.listdir('./tmp/PetImages/Cat/')))"
   ]
  },
  {
   "cell_type": "code",
   "execution_count": 3,
   "id": "76892076-9efc-46fd-af10-8b0f2938b818",
   "metadata": {},
   "outputs": [],
   "source": [
    "try:\n",
    "    os.mkdir('./tmp/cats-v-dogs')\n",
    "    os.mkdir('./tmp/cats-v-dogs/training')\n",
    "    os.mkdir('./tmp/cats-v-dogs/testing')\n",
    "    os.mkdir('./tmp/cats-v-dogs/training/cats')\n",
    "    os.mkdir('./tmp/cats-v-dogs/training/dogs')\n",
    "    os.mkdir('./tmp/cats-v-dogs/testing/cats')\n",
    "    os.mkdir('./tmp/cats-v-dogs/testing/dogs')\n",
    "except OSError:\n",
    "    pass"
   ]
  },
  {
   "cell_type": "code",
   "execution_count": 4,
   "id": "bb6845f0-3b69-4c17-95d6-c689d2600db1",
   "metadata": {},
   "outputs": [
    {
     "name": "stdout",
     "output_type": "stream",
     "text": [
      "666.jpg is zero length, do ignoring.\n",
      "11702.jpg is zero length, do ignoring.\n"
     ]
    }
   ],
   "source": [
    "def split_data(SOURCE, TRAINING, TESTING, SPLIT_SIZE):\n",
    "    files = []\n",
    "    for filename in os.listdir(SOURCE):\n",
    "        file = SOURCE + filename\n",
    "        if os.path.getsize(file) > 0:\n",
    "            files.append(filename)\n",
    "        else:\n",
    "            print(filename + \" is zero length, do ignoring.\")\n",
    "\n",
    "    training_length = int(len(files) * SPLIT_SIZE)\n",
    "    testing_length = int(len(files) - training_length)\n",
    "    shuffled_set = random.sample(files, len(files))\n",
    "    training_set = shuffled_set[0:training_length]\n",
    "    testing_set = shuffled_set[-testing_length:]\n",
    "\n",
    "    for filename in training_set:\n",
    "        this_file = SOURCE + filename\n",
    "        destination = TRAINING + filename\n",
    "        copyfile(this_file, destination)\n",
    "\n",
    "    for filename in testing_set:\n",
    "        this_file = SOURCE + filename\n",
    "        destination = TESTING + filename\n",
    "        copyfile(this_file, destination)\n",
    "\n",
    "CAT_SOURCE_DIR = './tmp/PetImages/Cat/'\n",
    "TRAINING_CATS_DIR = './tmp/cats-v-dogs/training/cats/'\n",
    "TESTING_CATS_DIR = './tmp/cats-v-dogs/testing/cats/'\n",
    "DOG_SOURCE_DIR = './tmp/PetImages/Dog/'\n",
    "TRAINING_DOGS_DIR = './tmp/cats-v-dogs/training/dogs/'\n",
    "TESTING_DOGS_DIR = './tmp/cats-v-dogs/testing/dogs/'\n",
    "\n",
    "split_size = .9\n",
    "split_data(CAT_SOURCE_DIR, TRAINING_CATS_DIR, TESTING_CATS_DIR, split_size)\n",
    "split_data(DOG_SOURCE_DIR, TRAINING_DOGS_DIR, TESTING_DOGS_DIR, split_size)"
   ]
  },
  {
   "cell_type": "code",
   "execution_count": 6,
   "id": "67b2385f-306d-4a83-b5e0-a0d9e351b672",
   "metadata": {},
   "outputs": [
    {
     "name": "stdout",
     "output_type": "stream",
     "text": [
      "12499\n",
      "12378\n",
      "4347\n",
      "2378\n"
     ]
    }
   ],
   "source": [
    "print(len(os.listdir('./tmp/cats-v-dogs/training/cats/')))\n",
    "print(len(os.listdir('./tmp/cats-v-dogs/training/dogs/')))\n",
    "print(len(os.listdir('./tmp/cats-v-dogs/testing/cats/')))\n",
    "print(len(os.listdir('./tmp/cats-v-dogs/testing/dogs/')))"
   ]
  },
  {
   "cell_type": "code",
   "execution_count": 7,
   "id": "2b4f8f10-be1d-420b-99b9-88710cd9ffdc",
   "metadata": {},
   "outputs": [
    {
     "name": "stderr",
     "output_type": "stream",
     "text": [
      "WARNING:absl:`lr` is deprecated, please use `learning_rate` instead, or use the legacy optimizer, e.g.,tf.keras.optimizers.legacy.RMSprop.\n"
     ]
    },
    {
     "name": "stdout",
     "output_type": "stream",
     "text": [
      "Found 24875 images belonging to 2 classes.\n",
      "Found 6724 images belonging to 2 classes.\n"
     ]
    }
   ],
   "source": [
    "model = tf.keras.models.Sequential([\n",
    "    tf.keras.layers.Conv2D(16, (3, 3), activation='relu', input_shape=(150, 150, 3)),\n",
    "    tf.keras.layers.MaxPooling2D(2, 2),\n",
    "    tf.keras.layers.Conv2D(32, (3, 3), activation='relu'),\n",
    "    tf.keras.layers.MaxPooling2D(2, 2),\n",
    "    tf.keras.layers.Conv2D(64, (3, 3), activation='relu'),\n",
    "    tf.keras.layers.MaxPooling2D(2, 2),\n",
    "    tf.keras.layers.MaxPooling2D(2, 2),\n",
    "    tf.keras.layers.Flatten(),\n",
    "    tf.keras.layers.Dense(512, activation='relu'),\n",
    "    tf.keras.layers.Dense(1, activation='sigmoid')\n",
    "])\n",
    "\n",
    "model.compile(optimizer=RMSprop(lr=0.001), loss='binary_crossentropy', metrics=['acc'])\n",
    "\n",
    "TRAINING_DIR = './tmp/cats-v-dogs/training'\n",
    "train_datagen = ImageDataGenerator(rescale=1.0/255.)\n",
    "train_generator = train_datagen.flow_from_directory(TRAINING_DIR, batch_size=250, class_mode='binary', target_size=(150, 150))\n",
    "\n",
    "VALIDATION_DIR = './tmp/cats-v-dogs/testing'\n",
    "validation_datagen = ImageDataGenerator(rescale=1.0/255.)\n",
    "validation_generator = train_datagen.flow_from_directory(VALIDATION_DIR, batch_size=250, class_mode='binary', target_size=(150, 150))\n",
    "# Expected Output\n",
    "# Found 22498 images belonging to 2 classes.\n",
    "# Found 2500 images belonging to 2 classes."
   ]
  },
  {
   "cell_type": "code",
   "execution_count": 8,
   "id": "89133e9d-5cfd-4f5e-8c7a-d769a1a61b25",
   "metadata": {},
   "outputs": [
    {
     "name": "stdout",
     "output_type": "stream",
     "text": [
      "Epoch 1/15\n",
      "23/90 [======>.......................] - ETA: 3:45 - loss: 0.6952 - acc: 0.5278"
     ]
    },
    {
     "name": "stderr",
     "output_type": "stream",
     "text": [
      "C:\\Users\\xgabr\\AppData\\Local\\Programs\\Python\\Python310\\lib\\site-packages\\PIL\\TiffImagePlugin.py:845: UserWarning: Truncated File Read\n",
      "  warnings.warn(str(msg))\n"
     ]
    },
    {
     "name": "stdout",
     "output_type": "stream",
     "text": [
      "90/90 [==============================] - 352s 4s/step - loss: 0.6634 - acc: 0.5982 - val_loss: 0.6580 - val_acc: 0.6080\n",
      "Epoch 2/15\n",
      "90/90 [==============================] - 330s 4s/step - loss: 0.5631 - acc: 0.7057 - val_loss: 0.7330 - val_acc: 0.5967\n",
      "Epoch 3/15\n",
      "90/90 [==============================] - 280s 3s/step - loss: 0.5224 - acc: 0.7386 - val_loss: 0.4536 - val_acc: 0.7927\n",
      "Epoch 4/15\n",
      "90/90 [==============================] - 281s 3s/step - loss: 0.4881 - acc: 0.7605 - val_loss: 0.4285 - val_acc: 0.8107\n",
      "Epoch 5/15\n",
      "90/90 [==============================] - 269s 3s/step - loss: 0.4589 - acc: 0.7815 - val_loss: 0.4046 - val_acc: 0.8300\n",
      "Epoch 6/15\n",
      "90/90 [==============================] - 268s 3s/step - loss: 0.4257 - acc: 0.8039 - val_loss: 0.4981 - val_acc: 0.7620\n",
      "Epoch 7/15\n",
      "90/90 [==============================] - 287s 3s/step - loss: 0.4033 - acc: 0.8189 - val_loss: 0.4196 - val_acc: 0.8013\n",
      "Epoch 8/15\n",
      "90/90 [==============================] - 348s 4s/step - loss: 0.3843 - acc: 0.8239 - val_loss: 0.4086 - val_acc: 0.8200\n",
      "Epoch 9/15\n",
      "90/90 [==============================] - 295s 3s/step - loss: 0.3607 - acc: 0.8358 - val_loss: 0.3165 - val_acc: 0.8760\n",
      "Epoch 10/15\n",
      "90/90 [==============================] - 264s 3s/step - loss: 0.3415 - acc: 0.8472 - val_loss: 0.2989 - val_acc: 0.8660\n",
      "Epoch 11/15\n",
      "90/90 [==============================] - 246s 3s/step - loss: 0.3200 - acc: 0.8594 - val_loss: 0.2702 - val_acc: 0.8827\n",
      "Epoch 12/15\n",
      "90/90 [==============================] - 280s 3s/step - loss: 0.3041 - acc: 0.8651 - val_loss: 0.2278 - val_acc: 0.9067\n",
      "Epoch 13/15\n",
      "90/90 [==============================] - 294s 3s/step - loss: 0.2807 - acc: 0.8787 - val_loss: 0.2223 - val_acc: 0.8973\n",
      "Epoch 14/15\n",
      "90/90 [==============================] - 329s 4s/step - loss: 0.2615 - acc: 0.8868 - val_loss: 0.1914 - val_acc: 0.9220\n",
      "Epoch 15/15\n",
      "90/90 [==============================] - 258s 3s/step - loss: 0.2435 - acc: 0.8982 - val_loss: 0.2293 - val_acc: 0.9000\n"
     ]
    }
   ],
   "source": [
    "# Note that this may take some time.\n",
    "history = model.fit(train_generator, epochs=15, steps_per_epoch=90, validation_data=validation_generator, validation_steps=6)\n"
   ]
  },
  {
   "cell_type": "code",
   "execution_count": 9,
   "id": "7e31c94b-11e8-40a9-b0e0-5ff6699b2886",
   "metadata": {},
   "outputs": [
    {
     "data": {
      "image/png": "[encoded data removed]",
      "text/plain": [
       "<Figure size 640x480 with 1 Axes>"
      ]
     },
     "metadata": {},
     "output_type": "display_data"
    },
    {
     "data": {
      "text/plain": [
       "<Figure size 640x480 with 0 Axes>"
      ]
     },
     "metadata": {},
     "output_type": "display_data"
    }
   ],
   "source": [
    "acc=history.history['acc']\n",
    "val_acc=history.history['val_acc']\n",
    "loss=history.history['loss']\n",
    "val_loss=history.history['val_loss']\n",
    "\n",
    "epochs=range(len(acc))  # Get number of epochs\n",
    "\n",
    "# Plot training and validation accuracy per epoch\n",
    "plt.plot(epochs, acc, 'r', 'Training Accuracy')\n",
    "plt.plot(epochs, val_acc, 'b', 'Validation Accuracy')\n",
    "plt.title('Training and validation accuary')\n",
    "plt.figure()\n",
    "plt.show()"
   ]
  },
  {
   "cell_type": "code",
   "execution_count": null,
   "id": "e9f149b1-a480-413c-8190-3aac0ddeb318",
   "metadata": {},
   "outputs": [],
   "source": []
  }
 ],
 "metadata": {
  "kernelspec": {
   "display_name": "Python 3 (ipykernel)",
   "language": "python",
   "name": "python3"
  },
  "language_info": {
   "codemirror_mode": {
    "name": "ipython",
    "version": 3
   },
   "file_extension": ".py",
   "mimetype": "text/x-python",
   "name": "python",
   "nbconvert_exporter": "python",
   "pygments_lexer": "ipython3",
   "version": "3.10.4"
  }
 },
 "nbformat": 4,
 "nbformat_minor": 5
}
