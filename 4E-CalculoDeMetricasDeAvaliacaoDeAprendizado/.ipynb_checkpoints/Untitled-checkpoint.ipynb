{
 "cells": [
  {
   "cell_type": "code",
   "execution_count": null,
   "id": "7512e9cd-949a-4100-a5f3-0276f7912835",
   "metadata": {},
   "outputs": [],
   "source": [
    "# !pip install -q tensorflow-gpu==2.0.0-beta1\n",
    "# Anaconda versão python 3.7.15 e tensorflow 2.0.0"
   ]
  },
  {
   "cell_type": "code",
   "execution_count": 1,
   "id": "3105df3f-fa21-43bf-9dc8-46dac6753f28",
   "metadata": {},
   "outputs": [
    {
     "name": "stdout",
     "output_type": "stream",
     "text": [
      "ERROR! Session/line number was not unique in database. History logging moved to new session 15\n",
      "Módulos importados\n"
     ]
    },
    {
     "data": {
      "text/plain": [
       "'2.0.0'"
      ]
     },
     "execution_count": 1,
     "metadata": {},
     "output_type": "execute_result"
    }
   ],
   "source": [
    "from tensorflow.keras import datasets, layers, models\n",
    "import matplotlib.pyplot as plt\n",
    "import tensorflow as tf\n",
    "import numpy as np\n",
    "import seaborn as sns\n",
    "import pandas as pd\n",
    "print('Módulos importados')\n",
    "tf.__version__"
   ]
  },
  {
   "cell_type": "code",
   "execution_count": 3,
   "id": "429a522a-c54a-42e7-98ac-639bf475661e",
   "metadata": {},
   "outputs": [
    {
     "name": "stdout",
     "output_type": "stream",
     "text": [
      "The tensorboard extension is already loaded. To reload it, use:\n",
      "  %reload_ext tensorboard\n"
     ]
    }
   ],
   "source": [
    "%load_ext tensorboard"
   ]
  },
  {
   "cell_type": "code",
   "execution_count": 4,
   "id": "96d7a357-5df6-4db6-a1b4-257ac3269689",
   "metadata": {},
   "outputs": [],
   "source": [
    "logdir='log'"
   ]
  },
  {
   "cell_type": "code",
   "execution_count": 5,
   "id": "c19e69a6-a30a-4cc4-86db-38773d6e90bc",
   "metadata": {},
   "outputs": [],
   "source": [
    "(train_images, train_labels), (test_images, test_labels) = datasets.mnist.load_data()\n",
    "\n",
    "train_images = train_images.reshape((60000, 28, 28, 1))\n",
    "test_images = test_images.reshape((10000, 28, 28, 1))\n",
    "\n",
    "train_images, test_images = train_images / 255.0, test_images / 255.0\n",
    "\n",
    "classes=[0,1,2,3,4,5,6,7,8,9]"
   ]
  },
  {
   "cell_type": "code",
   "execution_count": 8,
   "id": "74cfc2d3-ef69-460c-8e8b-774f6deb3841",
   "metadata": {},
   "outputs": [
    {
     "name": "stdout",
     "output_type": "stream",
     "text": [
      "Modelo de rede criado\n"
     ]
    }
   ],
   "source": [
    "model = models.Sequential()\n",
    "model.add(layers.Conv2D(32, (3, 3), activation='relu', input_shape=(28, 28, 1)))\n",
    "model.add(layers.MaxPooling2D((2, 2)))\n",
    "model.add(layers.Conv2D(64, (3, 3), activation='relu'))\n",
    "model.add(layers.MaxPooling2D((2, 2)))\n",
    "model.add(layers.Conv2D(64, (3, 3), activation='relu'))\n",
    "\n",
    "model.add(layers.Flatten())\n",
    "model.add(layers.Dense(64, activation='relu'))\n",
    "model.add(layers.Dense(10, activation='softmax'))\n",
    "print('Modelo de rede criado')"
   ]
  },
  {
   "cell_type": "code",
   "execution_count": 9,
   "id": "f98b48ba-8148-4ea4-86b4-f86273c1705f",
   "metadata": {},
   "outputs": [
    {
     "name": "stdout",
     "output_type": "stream",
     "text": [
      "tensorboard definido\n"
     ]
    }
   ],
   "source": [
    "tensorboard_callback = tf.keras.callbacks.TensorBoard(logdir, histogram_freq=1)\n",
    "print('tensorboard definido')"
   ]
  },
  {
   "cell_type": "code",
   "execution_count": 10,
   "id": "a9f567bd-92da-450b-a05c-6e7a5e5cdef3",
   "metadata": {},
   "outputs": [
    {
     "name": "stdout",
     "output_type": "stream",
     "text": [
      "Train on 60000 samples, validate on 10000 samples\n",
      "Epoch 1/5\n",
      "WARNING:tensorflow:Entity <function Function._initialize_uninitialized_variables.<locals>.initialize_variables at 0x00000206A704B678> could not be transformed and will be executed as-is. Please report this to the AutoGraph team. When filing the bug, set the verbosity to 10 (on Linux, `export AUTOGRAPH_VERBOSITY=10`) and attach the full output. Cause: No module named 'tensorflow_core.estimator'\n"
     ]
    },
    {
     "name": "stderr",
     "output_type": "stream",
     "text": [
      "WARNING:tensorflow:Entity <function Function._initialize_uninitialized_variables.<locals>.initialize_variables at 0x00000206A704B678> could not be transformed and will be executed as-is. Please report this to the AutoGraph team. When filing the bug, set the verbosity to 10 (on Linux, `export AUTOGRAPH_VERBOSITY=10`) and attach the full output. Cause: No module named 'tensorflow_core.estimator'\n"
     ]
    },
    {
     "name": "stdout",
     "output_type": "stream",
     "text": [
      "WARNING: Entity <function Function._initialize_uninitialized_variables.<locals>.initialize_variables at 0x00000206A704B678> could not be transformed and will be executed as-is. Please report this to the AutoGraph team. When filing the bug, set the verbosity to 10 (on Linux, `export AUTOGRAPH_VERBOSITY=10`) and attach the full output. Cause: No module named 'tensorflow_core.estimator'\n",
      "60000/60000 [==============================] - 43s 724us/sample - loss: 0.1519 - accuracy: 0.9519 - val_loss: 0.0540 - val_accuracy: 0.9827\n",
      "Epoch 2/5\n",
      "60000/60000 [==============================] - 42s 699us/sample - loss: 0.0487 - accuracy: 0.9848 - val_loss: 0.0425 - val_accuracy: 0.9867\n",
      "Epoch 3/5\n",
      "60000/60000 [==============================] - 44s 737us/sample - loss: 0.0347 - accuracy: 0.9887 - val_loss: 0.0335 - val_accuracy: 0.9891\n",
      "Epoch 4/5\n",
      "60000/60000 [==============================] - 44s 736us/sample - loss: 0.0265 - accuracy: 0.9914 - val_loss: 0.0359 - val_accuracy: 0.9884\n",
      "Epoch 5/5\n",
      "60000/60000 [==============================] - 41s 680us/sample - loss: 0.0204 - accuracy: 0.9934 - val_loss: 0.0324 - val_accuracy: 0.9902\n"
     ]
    },
    {
     "data": {
      "text/plain": [
       "<tensorflow.python.keras.callbacks.History at 0x206a7025688>"
      ]
     },
     "execution_count": 10,
     "metadata": {},
     "output_type": "execute_result"
    }
   ],
   "source": [
    "model.compile(optimizer='adam',\n",
    "              loss='sparse_categorical_crossentropy',\n",
    "              metrics=['accuracy'])\n",
    "\n",
    "model.fit(x=train_images, \n",
    "            y=train_labels, \n",
    "            epochs=5, \n",
    "            validation_data=(test_images, test_labels))"
   ]
  },
  {
   "cell_type": "code",
   "execution_count": 11,
   "id": "1c230079-46e3-4618-a673-82f2099af0fd",
   "metadata": {},
   "outputs": [],
   "source": [
    "y_true=test_labels\n",
    "y_pred=model.predict_classes(test_images)\n",
    "#y_pred=(model.predict(test_images) > 0.5).astype(\"int32\")\n",
    "\n",
    "#np.argmax(model.predict(test_labels), axis=-1)"
   ]
  },
  {
   "cell_type": "code",
   "execution_count": 12,
   "id": "01619a83-f8cf-42db-a0d7-29884604c032",
   "metadata": {},
   "outputs": [],
   "source": [
    "classes=[0,1,2,3,4,5,6,7,8,9]"
   ]
  },
  {
   "cell_type": "code",
   "execution_count": 13,
   "id": "dd93d6c8-4d49-48ef-9502-e5b8eef25fa1",
   "metadata": {},
   "outputs": [
    {
     "data": {
      "image/png": "[encoded data removed]",
      "text/plain": [
       "<Figure size 800x800 with 2 Axes>"
      ]
     },
     "metadata": {},
     "output_type": "display_data"
    }
   ],
   "source": [
    "con_mat = tf.math.confusion_matrix(labels=y_true, predictions=y_pred).numpy()\n",
    "con_mat_norm = np.around(con_mat.astype('float') / con_mat.sum(axis=1)[:, np.newaxis], decimals=2)\n",
    "\n",
    "con_mat_df = pd.DataFrame(con_mat_norm,\n",
    "                     index = classes, \n",
    "                     columns = classes)\n",
    "\n",
    "figure = plt.figure(figsize=(8, 8))\n",
    "sns.heatmap(con_mat_df, annot=True,cmap=plt.cm.Blues)\n",
    "plt.tight_layout()\n",
    "plt.ylabel('True label')\n",
    "plt.xlabel('Predicted label')\n",
    "plt.show()"
   ]
  },
  {
   "cell_type": "code",
   "execution_count": 22,
   "id": "23311693-9004-40c3-92d8-dd1cf50bee17",
   "metadata": {},
   "outputs": [
    {
     "name": "stdout",
     "output_type": "stream",
     "text": [
      "precisao = 99.02%\n",
      "sensibilidade = 99.02%\n",
      "especificidade = 99.02%\n",
      "acuracia = 99.02%\n",
      "VP = 9902\n",
      "VN = 9902\n",
      "FP = 98\n",
      "FN = 98\n",
      "F-SCORE = 0.9902\n"
     ]
    }
   ],
   "source": [
    "total = len(y_true)\n",
    "VP = VN = 0\n",
    "FP = FN = 0\n",
    "for i in range(total):\n",
    "    if y_pred[i] == y_true[i]:\n",
    "        VP += 1\n",
    "        VN += 1\n",
    "    else:\n",
    "        FP += 1\n",
    "        FN += 1\n",
    "\n",
    "precisao = sensibilidade = especificidade = acuracia = VP / total\n",
    "f1 = 2 * (precisao * sensibilidade) / (precisao + sensibilidade)\n",
    "print(f'precisao = {precisao*100}%')\n",
    "print(f'sensibilidade = {sensibilidade*100}%')\n",
    "print(f'especificidade = {especificidade*100}%')\n",
    "print(f'acuracia = {acuracia*100}%')\n",
    "print(f'VP = {VP}')\n",
    "print(f'VN = {VN}')\n",
    "print(f'FP = {FP}')\n",
    "print(f'FN = {FN}')\n",
    "print(f'F-SCORE = {f1}')"
   ]
  },
  {
   "cell_type": "code",
   "execution_count": null,
   "id": "6ae0b1e7-8e84-4b60-95e5-509203e5406a",
   "metadata": {},
   "outputs": [],
   "source": []
  }
 ],
 "metadata": {
  "kernelspec": {
   "display_name": "Python 3 (ipykernel)",
   "language": "python",
   "name": "python3"
  },
  "language_info": {
   "codemirror_mode": {
    "name": "ipython",
    "version": 3
   },
   "file_extension": ".py",
   "mimetype": "text/x-python",
   "name": "python",
   "nbconvert_exporter": "python",
   "pygments_lexer": "ipython3",
   "version": "3.7.15"
  }
 },
 "nbformat": 4,
 "nbformat_minor": 5
}
